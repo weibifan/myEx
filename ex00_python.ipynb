{
 "cells": [
  {
   "cell_type": "markdown",
   "source": [
    "weibifan 2022-10-3  \n",
    "Python语法，Python面向对象编程  \n",
    "\n",
    "## Python 概述\n",
    "\n",
    "Python是面向对象和面向过程混合 --- 类似于C++，但是借鉴了Java的GC  \n",
    "1）通过构造函数创建对象，可能进行赋值。Java使用new创建对象。  \n",
    "2）显式使用self指针，Java默认使用this  \n",
    "3）大量使用类里面的static函数。 2种使用方法，①类名.func()，②对象.func()  \n",
    "4）类后面的括号表示继承，Java是使用类后面的冒号  \n",
    "5）名称空间（package）中大量函数，没有放到对象中。  \n",
    "6）默认都是指针引用，自动构建对象，系统自动回收。要复制对象需要使用深拷贝。  \n",
    "7）__xxx()__，表示预留函数，或者必须重载的函数。  \n",
    "8）函数默认是值传递。  \n",
    "\n",
    "面向对象编程：\n",
    "1）构造函数def __init__(self) 是静态函数。   \n",
    "\n",
    "中文教程：https://github.com/jackfrued/Python-100-Days 不完整   \n",
    "中文书：https://github.com/ethan-funny/explore-python   \n",
    "https://pythonguidecn.readthedocs.io/zh/latest/  \n",
    "https://python3-cookbook.readthedocs.io/zh_CN/latest/  \n",
    "英文小抄：https://github.com/gto76/python-cheatsheet  \n",
    "\n",
    "## 注释\n",
    "\n",
    "多行注释（\"\"\")中识别unicode。  添加r，不在识别。   \n",
    "\\ 来实现多行语句。在 [], {}, 或 () 中的多行语句，不需要使用反斜杠 \\  \n",
    "字符串中 转义符 \\ 指Unicode编码  \n",
    "\n",
    "## lambda，yield\n",
    "\n",
    "lambda：匿名函数， 类似于C++ inline函数  \n",
    "方式1：\n",
    "`sum = lambda arg1, arg2: arg1 + arg2`\n",
    "方式2：等价于方式1。\n",
    "`def sum(arg1, arg2):  \n",
    "    return arg1 + arg2`\n"
   ],
   "metadata": {
    "collapsed": false
   }
  },
  {
   "cell_type": "code",
   "execution_count": null,
   "outputs": [],
   "source": [
    "sum = lambda arg1, arg2: arg1 + arg2\n",
    "print(sum(10,20))  #输出30"
   ],
   "metadata": {
    "collapsed": false
   }
  },
  {
   "cell_type": "markdown",
   "source": [
    "yield 的作用就是把一个函数变成一个 generator，带有 yield 的函数不再是一个普通函数。  \n",
    "带yield指令的函数，类似一个迭代类。  \n",
    "iter = fun()  #该函数包含yield指令。这句生成一个iterator对象。  \n",
    "iter.next() #使用该函数  "
   ],
   "metadata": {
    "collapsed": false
   }
  },
  {
   "cell_type": "code",
   "execution_count": null,
   "outputs": [],
   "source": [
    "def read_file(fpath):\n",
    "    BLOCK_SIZE = 1024\n",
    "    with open(fpath, 'rb') as f:\n",
    "        while True:\n",
    "            block = f.read(BLOCK_SIZE)\n",
    "            if block:\n",
    "                yield block\n",
    "            else:\n",
    "                return"
   ],
   "metadata": {
    "collapsed": false
   }
  },
  {
   "cell_type": "markdown",
   "source": [
    "\n",
    "\n",
    "## 函数：  默认是值传送\n",
    "\n",
    "##  字符串格式化，s f b  % 等\n",
    "r 指 raw，即 raw string，会自动将反斜杠转义，  \n",
    "`print('\\n')`       # 输出空行  \n",
    "`print(r'\\n')`     # 输出 \\n  \n",
    "\n",
    "## 虚拟环境\n",
    "Anaconda和Python安装包都会构建一个默认的虚拟环境，称为base，不指定时默然安装的各种包都在这个环境下。  \n",
    "如果创建了虚拟环境，安装的包都是安装在这个虚拟环境下。所以需要一个虚拟环境启动的过程。  \n",
    "\n",
    "Conda是一个开源包管理系统和环境管理系统，可在Windows、macOS和Linux上运行。  \n",
    "在Windows上大部分时间都出错，不知道为啥。  \n",
    "\n",
    "PyCharm支持不同的虚拟环境。  \n",
    "在相同硬件下，只需要拷贝虚拟环境的目录就行。  \n",
    "在不同硬件下，需要重新构建虚拟环境，比如某台机器配置有GPU加速卡。  \n",
    "\n",
    "## 开发环境\n",
    "Anaconda是一个免费开源的Python和R语言的发行版本，用于计算科学，  \n",
    "Anaconda致力于简化包管理和部署。Anaconda的包使用软件包管理系统Conda进行管理。  \n",
    "\n",
    "PyCharm\n",
    "\n",
    "## sys，os，shutil，glob包"
   ],
   "metadata": {
    "collapsed": false
   }
  },
  {
   "cell_type": "code",
   "execution_count": null,
   "outputs": [],
   "source": [
    "import os\n",
    "if not os.path.isdir('./.data'):\n",
    "    os.mkdir('./.data')\n",
    "\n",
    "import os\n",
    "dir(os)\n",
    "help(os)\n",
    "\n",
    "import shutil\n",
    "shutil.copyfile('data.db', 'archive.db')\n",
    "shutil.move('/build/executables', 'installdir')"
   ],
   "metadata": {
    "collapsed": false
   }
  },
  {
   "cell_type": "markdown",
   "source": [
    "## 列表（方括号） list[]  python的主力数据结构，索引为整数的字典。"
   ],
   "metadata": {
    "collapsed": false
   }
  },
  {
   "cell_type": "code",
   "execution_count": null,
   "outputs": [],
   "source": [
    "list = ['Google', 'Runoob', 1997, 2000] #序号从0开始\n",
    "del list[2] # 删除第3个元素。\n",
    "list.append('Baidu') # 在末尾增加一个元素\n",
    "list[1] = 'ByteDance' # 修改一个元素\n",
    "list[2:4] #投影，第3，第4个要素，不包括第5个要素（不包括4对应要素）。"
   ],
   "metadata": {
    "collapsed": false
   }
  },
  {
   "cell_type": "markdown",
   "source": [
    "支持的操作：+（拼接），*（重复），in （元素判断）  ，列表的比较"
   ],
   "metadata": {
    "collapsed": false
   }
  },
  {
   "cell_type": "code",
   "execution_count": null,
   "outputs": [],
   "source": [
    "import operator\n",
    "operator.eq(list, list[1:]) "
   ],
   "metadata": {
    "collapsed": false
   }
  },
  {
   "cell_type": "markdown",
   "source": [
    "## 元组（圆括号） tuple ()  元组的元素不能修改。但是支持拼接。\n",
    "\n",
    "## 字典（大括号） dict {}  json， 索引为字符串的list，jason\n",
    "dic = {'jay':'boy','may\"':'girl'}\n",
    "\n",
    "## with 关键字  用于异常处理，封装了 try…except…finally 编码范式，提高了易用性。   "
   ],
   "metadata": {
    "collapsed": false
   }
  },
  {
   "cell_type": "code",
   "execution_count": null,
   "outputs": [],
   "source": [
    "with open('./test_runoob.txt', 'w') as file:\n",
    "    file.write('hello world !')\n",
    "# with 关键字系统会自动调用 f.close() 方法， with 的作用等效于 try/finally 语句是一样的。\n",
    "\n",
    "file = open('./test_runoob.txt', 'w')\n",
    "try:\n",
    "    file.write('hello world')\n",
    "finally:\n",
    "    file.close()\n",
    "    \n"
   ],
   "metadata": {
    "collapsed": false
   }
  },
  {
   "cell_type": "markdown",
   "source": [
    "## 装饰符：@\n"
   ],
   "metadata": {
    "collapsed": false
   }
  }
 ],
 "metadata": {
  "kernelspec": {
   "display_name": "Python 3",
   "language": "python",
   "name": "python3"
  },
  "language_info": {
   "codemirror_mode": {
    "name": "ipython",
    "version": 2
   },
   "file_extension": ".py",
   "mimetype": "text/x-python",
   "name": "python",
   "nbconvert_exporter": "python",
   "pygments_lexer": "ipython2",
   "version": "2.7.6"
  }
 },
 "nbformat": 4,
 "nbformat_minor": 0
}
